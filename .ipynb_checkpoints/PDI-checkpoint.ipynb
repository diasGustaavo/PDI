{
 "cells": [
  {
   "cell_type": "code",
   "execution_count": 1,
   "id": "e1fb6d30-317d-4843-b826-caa21bca18f8",
   "metadata": {},
   "outputs": [],
   "source": [
    "import numpy as np\n",
    "import pandas as pd\n",
    "import cv2 as cv\n",
    "from skimage import io\n",
    "from PIL import Image\n",
    "import matplotlib.pylab as plt\n",
    "import os\n",
    "import pathlib\n",
    "import time"
   ]
  },
  {
   "cell_type": "code",
   "execution_count": 2,
   "id": "a3375c64-dd07-44ea-acf1-d272d54bb0b5",
   "metadata": {},
   "outputs": [],
   "source": [
    "def convertToYIQUpdate(rgbImage):\n",
    "    rgbImage = rgbImage.astype(float)\n",
    "    for i in range(len(rgbImage)):\n",
    "        for j in range(len(rgbImage[0])):\n",
    "            #print(rgbImage[i][j])\n",
    "            Y = (0.299*(rgbImage[i][j][0]/255)) + (0.5876*(rgbImage[i][j][1]/255)) + (0.114*(rgbImage[i][j][2]/255))\n",
    "            I = (0.5959*(rgbImage[i][j][0]/255)) - (0.2746*(rgbImage[i][j][1]/255)) - (0.3213*(rgbImage[i][j][2]/255))\n",
    "            Q = (0.2115*(rgbImage[i][j][0]/255)) - (0.5227*(rgbImage[i][j][1]/255)) + (0.3112*(rgbImage[i][j][2]/255))\n",
    "            rgbImage[i][j] = [Y, I, Q, 255]\n",
    "            #print(rgbImage[i][j])\n",
    "            #print(\"cut\")\n",
    "    return(rgbImage)"
   ]
  },
  {
   "cell_type": "code",
   "execution_count": 3,
   "id": "62b25a66-25ab-43d5-acea-065e0b0f451e",
   "metadata": {},
   "outputs": [],
   "source": [
    "def convertToRGBUpdate(rgbImage):\n",
    "    for i in range(len(rgbImage)):\n",
    "        for j in range(len(rgbImage[0])):\n",
    "            #print(rgbImage[i][j])\n",
    "            R = 255 * ((rgbImage[i][j][0]) + (0.956*rgbImage[i][j][1]) + (0.619*rgbImage[i][j][2]))\n",
    "            G = 255 * ((rgbImage[i][j][0]) - (0.272*rgbImage[i][j][1]) - (0.647*rgbImage[i][j][2]))\n",
    "            B = 255 * ((rgbImage[i][j][0]) - (1.106*rgbImage[i][j][1]) + (1.703*rgbImage[i][j][2]))\n",
    "            rgbImage[i][j] = [(R), (G), (B), 255]\n",
    "            #print(rgbImage[i][j])\n",
    "            #print(\"cut\")\n",
    "    rgbImage = rgbImage.astype(int)\n",
    "    return(rgbImage)"
   ]
  },
  {
   "cell_type": "code",
   "execution_count": 4,
   "id": "43eaf198-bee6-4c93-9716-d827e2512c2d",
   "metadata": {},
   "outputs": [],
   "source": [
    "def correlation(imageArg, mask):\n",
    "    tempRes = np.empty([(len(imageArg)-2), (len(imageArg[0])-2), 4])\n",
    "    for i in range(1, (len(imageArg)-1)):\n",
    "        for j in range(1, (len(imageArg[0])-1)):\n",
    "            # R\n",
    "            tempRes[(i - 1)][(j - 1)][0] = round((float(imageArg[(i - 1)][(j - 1)][0]) * float(mask[0][0])) + (float(imageArg[(i - 1)][(j)][0]) * float(mask[0][1])) + (float(imageArg[(i - 1)][(j+1)][0]) * float(mask[0][2])))\n",
    "            tempRes[(i - 1)][(j - 1)][0] = round((float(imageArg[(i)][(j - 1)][0]) * float(mask[1][0])) + (float(imageArg[(i)][(j)][0]) * float(mask[1][1])) + (float(imageArg[(i)][(j+1)][0]) * float(mask[1][2])))\n",
    "            tempRes[(i - 1)][(j - 1)][0] = round((float(imageArg[(i + 1)][(j - 1)][0]) * float(mask[2][0])) + (float(imageArg[(i + 1)][(j)][0]) * float(mask[2][1])) + (float(imageArg[(i + 1)][(j+1)][0]) * float(mask[2][2])))\n",
    "            \n",
    "            # G\n",
    "            tempRes[(i - 1)][(j - 1)][1] = round((float(imageArg[(i - 1)][(j - 1)][1]) * float(mask[0][0])) + (float(imageArg[(i - 1)][(j)][1]) * float(mask[0][1])) + (float(imageArg[(i - 1)][(j+1)][1]) * float(mask[0][2])))\n",
    "            tempRes[(i - 1)][(j - 1)][1] = round((float(imageArg[(i)][(j - 1)][1]) * float(mask[1][0])) + (float(imageArg[(i)][(j)][1]) * float(mask[1][1])) + (float(imageArg[(i)][(j+1)][1]) * float(mask[1][2])))\n",
    "            tempRes[(i - 1)][(j - 1)][1] = round((float(imageArg[(i + 1)][(j - 1)][1]) * float(mask[2][0])) + (float(imageArg[(i + 1)][(j)][1]) * float(mask[2][1])) + (float(imageArg[(i + 1)][(j+1)][1]) * float(mask[2][2])))\n",
    "            \n",
    "            # B\n",
    "            tempRes[(i - 1)][(j - 1)][2] = round((float(imageArg[(i - 1)][(j - 1)][2]) * float(mask[0][0])) + (float(imageArg[(i - 1)][(j)][2]) * float(mask[0][1])) + (float(imageArg[(i - 1)][(j+1)][2]) * float(mask[0][2])))\n",
    "            tempRes[(i - 1)][(j - 1)][2] = round((float(imageArg[(i)][(j - 1)][2]) * float(mask[1][0])) + (float(imageArg[(i)][(j)][2]) * float(mask[1][1])) + (float(imageArg[(i)][(j+1)][2]) * float(mask[1][2])))\n",
    "            tempRes[(i - 1)][(j - 1)][2] = round((float(imageArg[(i + 1)][(j - 1)][2]) * float(mask[2][0])) + (float(imageArg[(i + 1)][(j)][2]) * float(mask[2][1])) + (float(imageArg[(i + 1)][(j+1)][2]) * float(mask[2][2])))\n",
    "            \n",
    "            tempRes[(i - 1)][(j - 1)][3] = 255\n",
    "    return tempRes"
   ]
  },
  {
   "cell_type": "code",
   "execution_count": 5,
   "id": "19777491-8510-46b5-b0f1-54d8dbaf54e6",
   "metadata": {},
   "outputs": [],
   "source": [
    "def negativeImg(imgBroad):\n",
    "    return (-imgBroad + 255)"
   ]
  },
  {
   "cell_type": "code",
   "execution_count": 6,
   "id": "37c2ff99-6692-4ec9-a44a-59869ded11f8",
   "metadata": {},
   "outputs": [],
   "source": [
    "def negativeEsp(imgBroad):\n",
    "    return (-imgBroad + 1)"
   ]
  },
  {
   "cell_type": "code",
   "execution_count": 7,
   "id": "39a49d59-0567-4810-b587-ed30873209a7",
   "metadata": {},
   "outputs": [
    {
     "ename": "FileNotFoundError",
     "evalue": "No such file: 'C:\\Users\\DESKTOP\\Documents\\GitHub\\PDI\\Imagens\\Woman.png.png'",
     "output_type": "error",
     "traceback": [
      "\u001b[1;31m---------------------------------------------------------------------------\u001b[0m",
      "\u001b[1;31mFileNotFoundError\u001b[0m                         Traceback (most recent call last)",
      "\u001b[1;32m~\\AppData\\Local\\Temp/ipykernel_16284/2894026299.py\u001b[0m in \u001b[0;36m<module>\u001b[1;34m\u001b[0m\n\u001b[0;32m      1\u001b[0m \u001b[0mdirAtual\u001b[0m \u001b[1;33m=\u001b[0m \u001b[0mstr\u001b[0m\u001b[1;33m(\u001b[0m\u001b[0mpathlib\u001b[0m\u001b[1;33m.\u001b[0m\u001b[0mPath\u001b[0m\u001b[1;33m(\u001b[0m\u001b[1;33m)\u001b[0m\u001b[1;33m.\u001b[0m\u001b[0mabsolute\u001b[0m\u001b[1;33m(\u001b[0m\u001b[1;33m)\u001b[0m\u001b[1;33m)\u001b[0m\u001b[1;33m\u001b[0m\u001b[1;33m\u001b[0m\u001b[0m\n\u001b[1;32m----> 2\u001b[1;33m \u001b[0mimage\u001b[0m \u001b[1;33m=\u001b[0m \u001b[0mio\u001b[0m\u001b[1;33m.\u001b[0m\u001b[0mimread\u001b[0m\u001b[1;33m(\u001b[0m\u001b[0mdirAtual\u001b[0m \u001b[1;33m+\u001b[0m \u001b[1;34m'/Imagens/Woman.png.png'\u001b[0m\u001b[1;33m)\u001b[0m\u001b[1;33m\u001b[0m\u001b[1;33m\u001b[0m\u001b[0m\n\u001b[0m\u001b[0;32m      3\u001b[0m \u001b[0mplt\u001b[0m\u001b[1;33m.\u001b[0m\u001b[0mimshow\u001b[0m\u001b[1;33m(\u001b[0m\u001b[0mimage\u001b[0m\u001b[1;33m)\u001b[0m\u001b[1;33m\u001b[0m\u001b[1;33m\u001b[0m\u001b[0m\n",
      "\u001b[1;32mc:\\users\\desktop\\appdata\\local\\programs\\python\\python39\\lib\\site-packages\\skimage\\io\\_io.py\u001b[0m in \u001b[0;36mimread\u001b[1;34m(fname, as_gray, plugin, **plugin_args)\u001b[0m\n\u001b[0;32m     51\u001b[0m \u001b[1;33m\u001b[0m\u001b[0m\n\u001b[0;32m     52\u001b[0m     \u001b[1;32mwith\u001b[0m \u001b[0mfile_or_url_context\u001b[0m\u001b[1;33m(\u001b[0m\u001b[0mfname\u001b[0m\u001b[1;33m)\u001b[0m \u001b[1;32mas\u001b[0m \u001b[0mfname\u001b[0m\u001b[1;33m:\u001b[0m\u001b[1;33m\u001b[0m\u001b[1;33m\u001b[0m\u001b[0m\n\u001b[1;32m---> 53\u001b[1;33m         \u001b[0mimg\u001b[0m \u001b[1;33m=\u001b[0m \u001b[0mcall_plugin\u001b[0m\u001b[1;33m(\u001b[0m\u001b[1;34m'imread'\u001b[0m\u001b[1;33m,\u001b[0m \u001b[0mfname\u001b[0m\u001b[1;33m,\u001b[0m \u001b[0mplugin\u001b[0m\u001b[1;33m=\u001b[0m\u001b[0mplugin\u001b[0m\u001b[1;33m,\u001b[0m \u001b[1;33m**\u001b[0m\u001b[0mplugin_args\u001b[0m\u001b[1;33m)\u001b[0m\u001b[1;33m\u001b[0m\u001b[1;33m\u001b[0m\u001b[0m\n\u001b[0m\u001b[0;32m     54\u001b[0m \u001b[1;33m\u001b[0m\u001b[0m\n\u001b[0;32m     55\u001b[0m     \u001b[1;32mif\u001b[0m \u001b[1;32mnot\u001b[0m \u001b[0mhasattr\u001b[0m\u001b[1;33m(\u001b[0m\u001b[0mimg\u001b[0m\u001b[1;33m,\u001b[0m \u001b[1;34m'ndim'\u001b[0m\u001b[1;33m)\u001b[0m\u001b[1;33m:\u001b[0m\u001b[1;33m\u001b[0m\u001b[1;33m\u001b[0m\u001b[0m\n",
      "\u001b[1;32mc:\\users\\desktop\\appdata\\local\\programs\\python\\python39\\lib\\site-packages\\skimage\\io\\manage_plugins.py\u001b[0m in \u001b[0;36mcall_plugin\u001b[1;34m(kind, *args, **kwargs)\u001b[0m\n\u001b[0;32m    205\u001b[0m                                (plugin, kind))\n\u001b[0;32m    206\u001b[0m \u001b[1;33m\u001b[0m\u001b[0m\n\u001b[1;32m--> 207\u001b[1;33m     \u001b[1;32mreturn\u001b[0m \u001b[0mfunc\u001b[0m\u001b[1;33m(\u001b[0m\u001b[1;33m*\u001b[0m\u001b[0margs\u001b[0m\u001b[1;33m,\u001b[0m \u001b[1;33m**\u001b[0m\u001b[0mkwargs\u001b[0m\u001b[1;33m)\u001b[0m\u001b[1;33m\u001b[0m\u001b[1;33m\u001b[0m\u001b[0m\n\u001b[0m\u001b[0;32m    208\u001b[0m \u001b[1;33m\u001b[0m\u001b[0m\n\u001b[0;32m    209\u001b[0m \u001b[1;33m\u001b[0m\u001b[0m\n",
      "\u001b[1;32mc:\\users\\desktop\\appdata\\local\\programs\\python\\python39\\lib\\site-packages\\skimage\\io\\_plugins\\imageio_plugin.py\u001b[0m in \u001b[0;36mimread\u001b[1;34m(*args, **kwargs)\u001b[0m\n\u001b[0;32m      8\u001b[0m \u001b[1;33m@\u001b[0m\u001b[0mwraps\u001b[0m\u001b[1;33m(\u001b[0m\u001b[0mimageio_imread\u001b[0m\u001b[1;33m)\u001b[0m\u001b[1;33m\u001b[0m\u001b[1;33m\u001b[0m\u001b[0m\n\u001b[0;32m      9\u001b[0m \u001b[1;32mdef\u001b[0m \u001b[0mimread\u001b[0m\u001b[1;33m(\u001b[0m\u001b[1;33m*\u001b[0m\u001b[0margs\u001b[0m\u001b[1;33m,\u001b[0m \u001b[1;33m**\u001b[0m\u001b[0mkwargs\u001b[0m\u001b[1;33m)\u001b[0m\u001b[1;33m:\u001b[0m\u001b[1;33m\u001b[0m\u001b[1;33m\u001b[0m\u001b[0m\n\u001b[1;32m---> 10\u001b[1;33m     \u001b[1;32mreturn\u001b[0m \u001b[0mnp\u001b[0m\u001b[1;33m.\u001b[0m\u001b[0masarray\u001b[0m\u001b[1;33m(\u001b[0m\u001b[0mimageio_imread\u001b[0m\u001b[1;33m(\u001b[0m\u001b[1;33m*\u001b[0m\u001b[0margs\u001b[0m\u001b[1;33m,\u001b[0m \u001b[1;33m**\u001b[0m\u001b[0mkwargs\u001b[0m\u001b[1;33m)\u001b[0m\u001b[1;33m)\u001b[0m\u001b[1;33m\u001b[0m\u001b[1;33m\u001b[0m\u001b[0m\n\u001b[0m",
      "\u001b[1;32mc:\\users\\desktop\\appdata\\local\\programs\\python\\python39\\lib\\site-packages\\imageio\\__init__.py\u001b[0m in \u001b[0;36mimread\u001b[1;34m(uri, format, **kwargs)\u001b[0m\n\u001b[0;32m     94\u001b[0m     )\n\u001b[0;32m     95\u001b[0m \u001b[1;33m\u001b[0m\u001b[0m\n\u001b[1;32m---> 96\u001b[1;33m     \u001b[1;32mreturn\u001b[0m \u001b[0mimread_v2\u001b[0m\u001b[1;33m(\u001b[0m\u001b[0muri\u001b[0m\u001b[1;33m,\u001b[0m \u001b[0mformat\u001b[0m\u001b[1;33m=\u001b[0m\u001b[0mformat\u001b[0m\u001b[1;33m,\u001b[0m \u001b[1;33m**\u001b[0m\u001b[0mkwargs\u001b[0m\u001b[1;33m)\u001b[0m\u001b[1;33m\u001b[0m\u001b[1;33m\u001b[0m\u001b[0m\n\u001b[0m\u001b[0;32m     97\u001b[0m \u001b[1;33m\u001b[0m\u001b[0m\n\u001b[0;32m     98\u001b[0m \u001b[1;33m\u001b[0m\u001b[0m\n",
      "\u001b[1;32mc:\\users\\desktop\\appdata\\local\\programs\\python\\python39\\lib\\site-packages\\imageio\\v2.py\u001b[0m in \u001b[0;36mimread\u001b[1;34m(uri, format, **kwargs)\u001b[0m\n\u001b[0;32m    199\u001b[0m     \u001b[0mimopen_args\u001b[0m\u001b[1;33m[\u001b[0m\u001b[1;34m\"legacy_mode\"\u001b[0m\u001b[1;33m]\u001b[0m \u001b[1;33m=\u001b[0m \u001b[1;32mTrue\u001b[0m\u001b[1;33m\u001b[0m\u001b[1;33m\u001b[0m\u001b[0m\n\u001b[0;32m    200\u001b[0m \u001b[1;33m\u001b[0m\u001b[0m\n\u001b[1;32m--> 201\u001b[1;33m     \u001b[1;32mwith\u001b[0m \u001b[0mimopen\u001b[0m\u001b[1;33m(\u001b[0m\u001b[0muri\u001b[0m\u001b[1;33m,\u001b[0m \u001b[1;34m\"ri\"\u001b[0m\u001b[1;33m,\u001b[0m \u001b[1;33m**\u001b[0m\u001b[0mimopen_args\u001b[0m\u001b[1;33m)\u001b[0m \u001b[1;32mas\u001b[0m \u001b[0mfile\u001b[0m\u001b[1;33m:\u001b[0m\u001b[1;33m\u001b[0m\u001b[1;33m\u001b[0m\u001b[0m\n\u001b[0m\u001b[0;32m    202\u001b[0m         \u001b[1;32mreturn\u001b[0m \u001b[0mfile\u001b[0m\u001b[1;33m.\u001b[0m\u001b[0mread\u001b[0m\u001b[1;33m(\u001b[0m\u001b[0mindex\u001b[0m\u001b[1;33m=\u001b[0m\u001b[1;36m0\u001b[0m\u001b[1;33m,\u001b[0m \u001b[1;33m**\u001b[0m\u001b[0mkwargs\u001b[0m\u001b[1;33m)\u001b[0m\u001b[1;33m\u001b[0m\u001b[1;33m\u001b[0m\u001b[0m\n\u001b[0;32m    203\u001b[0m \u001b[1;33m\u001b[0m\u001b[0m\n",
      "\u001b[1;32mc:\\users\\desktop\\appdata\\local\\programs\\python\\python39\\lib\\site-packages\\imageio\\core\\imopen.py\u001b[0m in \u001b[0;36mimopen\u001b[1;34m(uri, io_mode, plugin, format_hint, legacy_mode, **kwargs)\u001b[0m\n\u001b[0;32m    118\u001b[0m         \u001b[0mrequest\u001b[0m\u001b[1;33m.\u001b[0m\u001b[0mformat_hint\u001b[0m \u001b[1;33m=\u001b[0m \u001b[0mformat_hint\u001b[0m\u001b[1;33m\u001b[0m\u001b[1;33m\u001b[0m\u001b[0m\n\u001b[0;32m    119\u001b[0m     \u001b[1;32melse\u001b[0m\u001b[1;33m:\u001b[0m\u001b[1;33m\u001b[0m\u001b[1;33m\u001b[0m\u001b[0m\n\u001b[1;32m--> 120\u001b[1;33m         \u001b[0mrequest\u001b[0m \u001b[1;33m=\u001b[0m \u001b[0mRequest\u001b[0m\u001b[1;33m(\u001b[0m\u001b[0muri\u001b[0m\u001b[1;33m,\u001b[0m \u001b[0mio_mode\u001b[0m\u001b[1;33m,\u001b[0m \u001b[0mformat_hint\u001b[0m\u001b[1;33m=\u001b[0m\u001b[0mformat_hint\u001b[0m\u001b[1;33m)\u001b[0m\u001b[1;33m\u001b[0m\u001b[1;33m\u001b[0m\u001b[0m\n\u001b[0m\u001b[0;32m    121\u001b[0m \u001b[1;33m\u001b[0m\u001b[0m\n\u001b[0;32m    122\u001b[0m     \u001b[0msource\u001b[0m \u001b[1;33m=\u001b[0m \u001b[1;34m\"<bytes>\"\u001b[0m \u001b[1;32mif\u001b[0m \u001b[0misinstance\u001b[0m\u001b[1;33m(\u001b[0m\u001b[0muri\u001b[0m\u001b[1;33m,\u001b[0m \u001b[0mbytes\u001b[0m\u001b[1;33m)\u001b[0m \u001b[1;32melse\u001b[0m \u001b[0muri\u001b[0m\u001b[1;33m\u001b[0m\u001b[1;33m\u001b[0m\u001b[0m\n",
      "\u001b[1;32mc:\\users\\desktop\\appdata\\local\\programs\\python\\python39\\lib\\site-packages\\imageio\\core\\request.py\u001b[0m in \u001b[0;36m__init__\u001b[1;34m(self, uri, mode, format_hint, **kwargs)\u001b[0m\n\u001b[0;32m    246\u001b[0m \u001b[1;33m\u001b[0m\u001b[0m\n\u001b[0;32m    247\u001b[0m         \u001b[1;31m# Parse what was given\u001b[0m\u001b[1;33m\u001b[0m\u001b[1;33m\u001b[0m\u001b[1;33m\u001b[0m\u001b[0m\n\u001b[1;32m--> 248\u001b[1;33m         \u001b[0mself\u001b[0m\u001b[1;33m.\u001b[0m\u001b[0m_parse_uri\u001b[0m\u001b[1;33m(\u001b[0m\u001b[0muri\u001b[0m\u001b[1;33m)\u001b[0m\u001b[1;33m\u001b[0m\u001b[1;33m\u001b[0m\u001b[0m\n\u001b[0m\u001b[0;32m    249\u001b[0m \u001b[1;33m\u001b[0m\u001b[0m\n\u001b[0;32m    250\u001b[0m         \u001b[1;31m# Set extension\u001b[0m\u001b[1;33m\u001b[0m\u001b[1;33m\u001b[0m\u001b[1;33m\u001b[0m\u001b[0m\n",
      "\u001b[1;32mc:\\users\\desktop\\appdata\\local\\programs\\python\\python39\\lib\\site-packages\\imageio\\core\\request.py\u001b[0m in \u001b[0;36m_parse_uri\u001b[1;34m(self, uri)\u001b[0m\n\u001b[0;32m    386\u001b[0m                 \u001b[1;31m# Reading: check that the file exists (but is allowed a dir)\u001b[0m\u001b[1;33m\u001b[0m\u001b[1;33m\u001b[0m\u001b[1;33m\u001b[0m\u001b[0m\n\u001b[0;32m    387\u001b[0m                 \u001b[1;32mif\u001b[0m \u001b[1;32mnot\u001b[0m \u001b[0mos\u001b[0m\u001b[1;33m.\u001b[0m\u001b[0mpath\u001b[0m\u001b[1;33m.\u001b[0m\u001b[0mexists\u001b[0m\u001b[1;33m(\u001b[0m\u001b[0mfn\u001b[0m\u001b[1;33m)\u001b[0m\u001b[1;33m:\u001b[0m\u001b[1;33m\u001b[0m\u001b[1;33m\u001b[0m\u001b[0m\n\u001b[1;32m--> 388\u001b[1;33m                     \u001b[1;32mraise\u001b[0m \u001b[0mFileNotFoundError\u001b[0m\u001b[1;33m(\u001b[0m\u001b[1;34m\"No such file: '%s'\"\u001b[0m \u001b[1;33m%\u001b[0m \u001b[0mfn\u001b[0m\u001b[1;33m)\u001b[0m\u001b[1;33m\u001b[0m\u001b[1;33m\u001b[0m\u001b[0m\n\u001b[0m\u001b[0;32m    389\u001b[0m             \u001b[1;32melse\u001b[0m\u001b[1;33m:\u001b[0m\u001b[1;33m\u001b[0m\u001b[1;33m\u001b[0m\u001b[0m\n\u001b[0;32m    390\u001b[0m                 \u001b[1;31m# Writing: check that the directory to write to does exist\u001b[0m\u001b[1;33m\u001b[0m\u001b[1;33m\u001b[0m\u001b[1;33m\u001b[0m\u001b[0m\n",
      "\u001b[1;31mFileNotFoundError\u001b[0m: No such file: 'C:\\Users\\DESKTOP\\Documents\\GitHub\\PDI\\Imagens\\Woman.png.png'"
     ]
    }
   ],
   "source": [
    "dirAtual = str(pathlib.Path().absolute())\n",
    "image = io.imread(dirAtual + '/Imagens/Woman.png')\n",
    "plt.imshow(image)"
   ]
  },
  {
   "cell_type": "code",
   "execution_count": null,
   "id": "dde71a8c-3adb-41c1-8391-c2c51f3882d3",
   "metadata": {
    "tags": []
   },
   "outputs": [],
   "source": [
    "for i in range(len(image)):\n",
    "        for j in range(len(image[0])):\n",
    "            R = negativeImg(image[i][j][0])\n",
    "            G = negativeImg(image[i][j][1])\n",
    "            B = negativeImg(image[i][j][2])\n",
    "            image[i][j] = [R, G, B, 255]\n",
    "plt.imshow(image)"
   ]
  },
  {
   "cell_type": "code",
   "execution_count": null,
   "id": "8d118b11-030d-4404-bddc-54b5becd5f80",
   "metadata": {
    "tags": []
   },
   "outputs": [],
   "source": [
    "for i in range(len(image)):\n",
    "        for j in range(len(image[0])):\n",
    "            R = negativeImg(image[i][j][0])\n",
    "            G = negativeImg(image[i][j][1])\n",
    "            B = negativeImg(image[i][j][2])\n",
    "            image[i][j] = [R, G, B, 255]\n",
    "plt.imshow(image)"
   ]
  },
  {
   "cell_type": "code",
   "execution_count": null,
   "id": "de0b66ba-54fa-4a1c-8034-6759cf0f8866",
   "metadata": {},
   "outputs": [],
   "source": [
    "image = convertToYIQUpdate(image)\n",
    "image = convertToRGBUpdate(image)\n",
    "plt.imshow(image)"
   ]
  },
  {
   "cell_type": "code",
   "execution_count": null,
   "id": "851f38f3-142a-4291-86f2-a975922e4909",
   "metadata": {},
   "outputs": [],
   "source": [
    "image = convertToYIQUpdate(image)\n",
    "for i in range(len(image)):\n",
    "        for j in range(len(image[0])):\n",
    "            Y = negativeEsp(image[i][j][0])\n",
    "            I = image[i][j][1]\n",
    "            Q = image[i][j][2]\n",
    "            image[i][j] = [Y, I, Q, 255]\n",
    "image = convertToRGBUpdate(image)\n",
    "plt.imshow(image)\n",
    "# plt.imshow(image.astype('uint8'))"
   ]
  },
  {
   "cell_type": "code",
   "execution_count": null,
   "id": "7d7aabd6-aae9-471e-94ba-4eccb3b70aa3",
   "metadata": {},
   "outputs": [],
   "source": [
    "image = convertToYIQUpdate(image)\n",
    "for i in range(len(image)):\n",
    "        for j in range(len(image[0])):\n",
    "            Y = negativeImg(image[i][j][0])\n",
    "            I = image[i][j][1]\n",
    "            Q = image[i][j][2]\n",
    "            image[i][j] = [Y, I, Q, 255]\n",
    "image = convertToRGBUpdate(image)\n",
    "plt.imshow(image)"
   ]
  },
  {
   "cell_type": "code",
   "execution_count": null,
   "id": "ac6a4c61-4103-4104-90ff-ceffcbfe56a8",
   "metadata": {},
   "outputs": [],
   "source": [
    "image"
   ]
  },
  {
   "cell_type": "code",
   "execution_count": null,
   "id": "49d5e6db-571a-4bd9-ad33-15bec4195c36",
   "metadata": {},
   "outputs": [],
   "source": [
    "with open(dirAtual + '/filtroMedia.txt') as f:\n",
    "    mask = f.readlines()\n",
    "    for i in range(len(mask)):\n",
    "        mask[i] = mask[i].replace('\\n','').split(' ')\n",
    "    print(mask)"
   ]
  },
  {
   "cell_type": "code",
   "execution_count": null,
   "id": "5ad762bd-0c5f-4d39-a1fc-25e1daa75692",
   "metadata": {},
   "outputs": [],
   "source": [
    "res = np.empty([(len(image)-2), (len(image[0])-2), 4])\n",
    "res.shape"
   ]
  },
  {
   "cell_type": "code",
   "execution_count": null,
   "id": "c57488b5-c241-4f4e-bdd0-5728bc60fffd",
   "metadata": {},
   "outputs": [],
   "source": [
    "res = correlation(image, mask).astype(int)\n",
    "plt.imshow(res)"
   ]
  },
  {
   "cell_type": "code",
   "execution_count": null,
   "id": "a8f1214f-4b7f-4408-ba52-f78a3badaac1",
   "metadata": {},
   "outputs": [],
   "source": [
    "plt.imshow(image)"
   ]
  },
  {
   "cell_type": "code",
   "execution_count": null,
   "id": "b9c9336b-f3ac-476e-b31d-b351e50cb63f",
   "metadata": {},
   "outputs": [],
   "source": [
    "f.close()\n",
    "with open(dirAtual + '\\sobelHorizontal.txt') as f:\n",
    "    mask = f.readlines()\n",
    "    for i in range(len(mask)):\n",
    "        mask[i] = mask[i].replace('\\n','').split(' ')\n",
    "    print(mask)"
   ]
  },
  {
   "cell_type": "code",
   "execution_count": null,
   "id": "ab797c74-4118-44cb-b161-5d50eebbffef",
   "metadata": {},
   "outputs": [],
   "source": [
    "image2 = io.imread(dirAtual + '/Imagens/aston-vantage-safety-car.jpg')\n",
    "plt.imshow(image2)"
   ]
  },
  {
   "cell_type": "code",
   "execution_count": null,
   "id": "1cf885ad-303a-4386-9e26-e2270173f348",
   "metadata": {},
   "outputs": [],
   "source": [
    "res2 = np.empty([(len(image2)-2), (len(image2[0])-2), 4])\n",
    "res2.shape"
   ]
  },
  {
   "cell_type": "code",
   "execution_count": null,
   "id": "002f234a-ab0a-4123-814c-4ff38252653e",
   "metadata": {},
   "outputs": [],
   "source": [
    "res2 = correlation(image2, mask).astype(int)\n",
    "res2"
   ]
  },
  {
   "cell_type": "code",
   "execution_count": null,
   "id": "57bd50f2-fa8e-4d5a-b9a9-7870dfcde602",
   "metadata": {},
   "outputs": [],
   "source": []
  }
 ],
 "metadata": {
  "kernelspec": {
   "display_name": "Python 3 (ipykernel)",
   "language": "python",
   "name": "python3"
  },
  "language_info": {
   "codemirror_mode": {
    "name": "ipython",
    "version": 3
   },
   "file_extension": ".py",
   "mimetype": "text/x-python",
   "name": "python",
   "nbconvert_exporter": "python",
   "pygments_lexer": "ipython3",
   "version": "3.9.1"
  }
 },
 "nbformat": 4,
 "nbformat_minor": 5
}
